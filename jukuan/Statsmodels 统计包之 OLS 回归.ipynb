{
 "cells": [
  {
   "cell_type": "code",
   "execution_count": 1,
   "id": "leading-symbol",
   "metadata": {
    "ExecuteTime": {
     "end_time": "2021-05-09T02:25:22.270613Z",
     "start_time": "2021-05-09T02:25:20.322866Z"
    }
   },
   "outputs": [],
   "source": [
    "import numpy as np\n",
    "import pandas as pd\n",
    "import statsmodels.api as sm\n",
    "import matplotlib.pyplot as plt"
   ]
  },
  {
   "cell_type": "markdown",
   "id": "arabic-breakfast",
   "metadata": {},
   "source": [
    "* 单元素最小二乘回归估计\n",
    "\n",
    "$ y = \\sum_{i=1}^n $\n",
    "\n",
    "$ y = 1 + 10*x $ \n",
    "\n",
    "beta 设定 $ b_0$ 和 $ b_1 $ 系数值,这里就是(1,10)\n",
    "\n",
    "\n",
    "这里自变量是 $ X $,因变量是 $ y $,正态分布误差e。公式可以为\n",
    "$ y = X*beta + e $"
   ]
  },
  {
   "cell_type": "code",
   "execution_count": 15,
   "id": "absent-casino",
   "metadata": {
    "ExecuteTime": {
     "end_time": "2021-05-09T02:42:12.798870Z",
     "start_time": "2021-05-09T02:42:12.779839Z"
    }
   },
   "outputs": [
    {
     "name": "stdout",
     "output_type": "stream",
     "text": [
      "[1.06893941 9.99878725]\n",
      "                            OLS Regression Results                            \n",
      "==============================================================================\n",
      "Dep. Variable:                      y   R-squared:                       0.999\n",
      "Model:                            OLS   Adj. R-squared:                  0.999\n",
      "Method:                 Least Squares   F-statistic:                 8.433e+04\n",
      "Date:                Sun, 09 May 2021   Prob (F-statistic):          1.20e-145\n",
      "Time:                        10:42:12   Log-Likelihood:                -141.28\n",
      "No. Observations:                 100   AIC:                             286.6\n",
      "Df Residuals:                      98   BIC:                             291.8\n",
      "Df Model:                           1                                         \n",
      "Covariance Type:            nonrobust                                         \n",
      "==============================================================================\n",
      "                 coef    std err          t      P>|t|      [0.025      0.975]\n",
      "------------------------------------------------------------------------------\n",
      "const          1.0689      0.199      5.364      0.000       0.673       1.464\n",
      "x1             9.9988      0.034    290.394      0.000       9.930      10.067\n",
      "==============================================================================\n",
      "Omnibus:                       16.157   Durbin-Watson:                   1.863\n",
      "Prob(Omnibus):                  0.000   Jarque-Bera (JB):               21.749\n",
      "Skew:                           0.789   Prob(JB):                     1.89e-05\n",
      "Kurtosis:                       4.652   Cond. No.                         11.7\n",
      "==============================================================================\n",
      "\n",
      "Notes:\n",
      "[1] Standard Errors assume that the covariance matrix of the errors is correctly specified.\n"
     ]
    }
   ],
   "source": [
    "nsample =100\n",
    "\n",
    "x = np.linspace(0,10,nsample)\n",
    "\n",
    "X = sm.add_constant(x)\n",
    "\n",
    "beta = np.array([1,10])\n",
    "\n",
    "e = np.random.normal(size=nsample)\n",
    "\n",
    "y = np.dot(X, beta) + e\n",
    "model = sm.OLS(y,X)\n",
    "\n",
    "result = model.fit()\n",
    "\n",
    "print(result.params)\n",
    "print(result.summary())"
   ]
  },
  {
   "cell_type": "code",
   "execution_count": 17,
   "id": "bronze-pencil",
   "metadata": {
    "ExecuteTime": {
     "end_time": "2021-05-09T02:49:10.177429Z",
     "start_time": "2021-05-09T02:49:10.172489Z"
    }
   },
   "outputs": [],
   "source": [
    "y_fitted = result.fittedvalues"
   ]
  },
  {
   "cell_type": "code",
   "execution_count": 20,
   "id": "creative-roman",
   "metadata": {
    "ExecuteTime": {
     "end_time": "2021-05-09T02:53:32.809973Z",
     "start_time": "2021-05-09T02:53:32.632423Z"
    }
   },
   "outputs": [
    {
     "data": {
      "text/plain": [
       "(-0.05, 2.0, -1.0, 25.0)"
      ]
     },
     "execution_count": 20,
     "metadata": {},
     "output_type": "execute_result"
    },
    {
     "data": {
      "image/png": "[encoded data removed]",
      "text/plain": [
       "<Figure size 576x432 with 1 Axes>"
      ]
     },
     "metadata": {
      "needs_background": "light"
     },
     "output_type": "display_data"
    }
   ],
   "source": [
    "fig, ax = plt.subplots(figsize=(8,6))\n",
    "ax.plot(x, y, 'o', label='data')\n",
    "ax.plot(x, y_fitted, 'r--.',label='OLS')\n",
    "ax.legend(loc='best')\n",
    "ax.axis((-0.05, 2, -1, 25))"
   ]
  },
  {
   "cell_type": "code",
   "execution_count": 30,
   "id": "excessive-thomas",
   "metadata": {
    "ExecuteTime": {
     "end_time": "2021-05-09T03:09:25.969824Z",
     "start_time": "2021-05-09T03:09:25.952471Z"
    }
   },
   "outputs": [
    {
     "name": "stdout",
     "output_type": "stream",
     "text": [
      "                            OLS Regression Results                            \n",
      "==============================================================================\n",
      "Dep. Variable:                      y   R-squared:                       1.000\n",
      "Model:                            OLS   Adj. R-squared:                  1.000\n",
      "Method:                 Least Squares   F-statistic:                 4.512e+06\n",
      "Date:                Sun, 09 May 2021   Prob (F-statistic):          1.06e-241\n",
      "Time:                        11:09:25   Log-Likelihood:                -140.81\n",
      "No. Observations:                 100   AIC:                             287.6\n",
      "Df Residuals:                      97   BIC:                             295.4\n",
      "Df Model:                           2                                         \n",
      "Covariance Type:            nonrobust                                         \n",
      "==============================================================================\n",
      "                 coef    std err          t      P>|t|      [0.025      0.975]\n",
      "------------------------------------------------------------------------------\n",
      "const          0.8727      0.295      2.954      0.004       0.286       1.459\n",
      "x1             0.1165      0.137      0.853      0.396      -0.154       0.387\n",
      "x2            10.0019      0.013    757.098      0.000       9.976      10.028\n",
      "==============================================================================\n",
      "Omnibus:                        0.260   Durbin-Watson:                   2.161\n",
      "Prob(Omnibus):                  0.878   Jarque-Bera (JB):                0.402\n",
      "Skew:                           0.103   Prob(JB):                        0.818\n",
      "Kurtosis:                       2.767   Cond. No.                         144.\n",
      "==============================================================================\n",
      "\n",
      "Notes:\n",
      "[1] Standard Errors assume that the covariance matrix of the errors is correctly specified.\n",
      "[ 0.87271357  0.11650638 10.00187069]\n"
     ]
    }
   ],
   "source": [
    "X = np.column_stack((x,x**2))\n",
    "\n",
    "X = sm.add_constant(X)\n",
    "\n",
    "beta = np.array([1,0.1,10])\n",
    "\n",
    "y = np.dot(X,beta) + np.random.normal(size = nsample)\n",
    "\n",
    "model = sm.OLS(y,X)\n",
    "\n",
    "result = model.fit()\n",
    "\n",
    "print(result.summary())\n",
    "print(result.params)"
   ]
  },
  {
   "cell_type": "code",
   "execution_count": null,
   "id": "average-update",
   "metadata": {},
   "outputs": [],
   "source": []
  }
 ],
 "metadata": {
  "kernelspec": {
   "display_name": "Python 3",
   "language": "python",
   "name": "python3"
  },
  "language_info": {
   "codemirror_mode": {
    "name": "ipython",
    "version": 3
   },
   "file_extension": ".py",
   "mimetype": "text/x-python",
   "name": "python",
   "nbconvert_exporter": "python",
   "pygments_lexer": "ipython3",
   "version": "3.8.2"
  }
 },
 "nbformat": 4,
 "nbformat_minor": 5
}
